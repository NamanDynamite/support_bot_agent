{
 "cells": [
  {
   "cell_type": "code",
   "execution_count": 9,
   "id": "27a1d12d",
   "metadata": {},
   "outputs": [
    {
     "name": "stderr",
     "output_type": "stream",
     "text": [
      "2025-03-10 20:22:21,639 - INFO - Use pytorch device_name: cpu\n",
      "2025-03-10 20:22:21,639 - INFO - Load pretrained SentenceTransformer: all-MiniLM-L6-v2\n"
     ]
    },
    {
     "data": {
      "application/vnd.jupyter.widget-view+json": {
       "model_id": "86b41ddd56414e1db2520e2715e39337",
       "version_major": 2,
       "version_minor": 0
      },
      "text/plain": [
       "Batches:   0%|          | 0/1 [00:00<?, ?it/s]"
      ]
     },
     "metadata": {},
     "output_type": "display_data"
    },
    {
     "name": "stderr",
     "output_type": "stream",
     "text": [
      "2025-03-10 20:22:28,097 - INFO - Loaded document: faq.txt with 3 sections.\n",
      "2025-03-10 20:22:28,113 - INFO - Processing query: How do I reset my password?\n"
     ]
    },
    {
     "data": {
      "application/vnd.jupyter.widget-view+json": {
       "model_id": "1e0310a3ba8d4114b056aa02bbd9874d",
       "version_major": 2,
       "version_minor": 0
      },
      "text/plain": [
       "Batches:   0%|          | 0/1 [00:00<?, ?it/s]"
      ]
     },
     "metadata": {},
     "output_type": "display_data"
    },
    {
     "name": "stderr",
     "output_type": "stream",
     "text": [
      "2025-03-10 20:22:28,204 - INFO - Relevant section found for query: How do I reset my password? (score: 0.80)\n"
     ]
    },
    {
     "name": "stdout",
     "output_type": "stream",
     "text": [
      "\n",
      "Initial Response to 'How do I reset my password?': go to the login page\n",
      "Was this response helpful? (yes/no/more details): more details\n"
     ]
    },
    {
     "data": {
      "application/vnd.jupyter.widget-view+json": {
       "model_id": "6a42538942d34b99bdd711f3d82a5545",
       "version_major": 2,
       "version_minor": 0
      },
      "text/plain": [
       "Batches:   0%|          | 0/1 [00:00<?, ?it/s]"
      ]
     },
     "metadata": {},
     "output_type": "display_data"
    },
    {
     "name": "stderr",
     "output_type": "stream",
     "text": [
      "2025-03-10 20:22:45,313 - INFO - Relevant section found for query: How do I reset my password? (score: 0.80)\n"
     ]
    },
    {
     "name": "stdout",
     "output_type": "stream",
     "text": [
      "Updated Response to 'How do I reset my password?': go to the login page (Additional Info: Resetting Your Password:\n",
      "To reset your password, go to the login page and click 'Forgot Password.' E...)\n",
      "Was this response helpful? (yes/no/more details): yes\n"
     ]
    },
    {
     "name": "stderr",
     "output_type": "stream",
     "text": [
      "2025-03-10 20:23:03,104 - INFO - Processing query: What’s the refund policy?\n"
     ]
    },
    {
     "data": {
      "application/vnd.jupyter.widget-view+json": {
       "model_id": "a60ba154eea44baf92808aaf5ebca3c1",
       "version_major": 2,
       "version_minor": 0
      },
      "text/plain": [
       "Batches:   0%|          | 0/1 [00:00<?, ?it/s]"
      ]
     },
     "metadata": {},
     "output_type": "display_data"
    },
    {
     "name": "stderr",
     "output_type": "stream",
     "text": [
      "2025-03-10 20:23:03,195 - INFO - Relevant section found for query: What’s the refund policy? (score: 0.63)\n"
     ]
    },
    {
     "name": "stdout",
     "output_type": "stream",
     "text": [
      "\n",
      "Initial Response to 'What’s the refund policy?': We offer refunds within 30 days of purchase\n",
      "Was this response helpful? (yes/no/more details): yes\n"
     ]
    },
    {
     "name": "stderr",
     "output_type": "stream",
     "text": [
      "2025-03-10 20:23:09,096 - INFO - Processing query: How do I contact support?\n"
     ]
    },
    {
     "data": {
      "application/vnd.jupyter.widget-view+json": {
       "model_id": "8acd65a9e7b74a4eab0576429dcaa413",
       "version_major": 2,
       "version_minor": 0
      },
      "text/plain": [
       "Batches:   0%|          | 0/1 [00:00<?, ?it/s]"
      ]
     },
     "metadata": {},
     "output_type": "display_data"
    },
    {
     "name": "stderr",
     "output_type": "stream",
     "text": [
      "2025-03-10 20:23:09,177 - INFO - Relevant section found for query: How do I contact support? (score: 0.71)\n"
     ]
    },
    {
     "name": "stdout",
     "output_type": "stream",
     "text": [
      "\n",
      "Initial Response to 'How do I contact support?': Email us at support@example.com\n",
      "Was this response helpful? (yes/no/more details): yes\n"
     ]
    },
    {
     "name": "stderr",
     "output_type": "stream",
     "text": [
      "2025-03-10 20:23:15,374 - INFO - Processing query: How do I fly to the moon?\n"
     ]
    },
    {
     "data": {
      "application/vnd.jupyter.widget-view+json": {
       "model_id": "60324c9372ec400fa09c51e4622a7d87",
       "version_major": 2,
       "version_minor": 0
      },
      "text/plain": [
       "Batches:   0%|          | 0/1 [00:00<?, ?it/s]"
      ]
     },
     "metadata": {},
     "output_type": "display_data"
    },
    {
     "name": "stderr",
     "output_type": "stream",
     "text": [
      "2025-03-10 20:23:15,488 - INFO - No highly relevant section found for query: How do I fly to the moon? (score: 0.02)\n"
     ]
    },
    {
     "name": "stdout",
     "output_type": "stream",
     "text": [
      "\n",
      "Initial Response to 'How do I fly to the moon?': I'm sorry, I couldn't find relevant information in the document. Please contact support.\n",
      "Was this response helpful? (yes/no/more details): yes\n"
     ]
    }
   ],
   "source": [
    "import logging\n",
    "import torch\n",
    "from transformers import pipeline\n",
    "from sentence_transformers import SentenceTransformer, util\n",
    "import PyPDF2\n",
    "\n",
    "# pip install transformers sentence-transformers PyPDF2 torch\n",
    "\n",
    "def setup_logging(log_path=\"C:\\\\Users\\\\Naman\\\\Desktop\\\\jupyter notebook\\\\support_bot_log.txt\"):\n",
    "    \"\"\"Setup logging to log both to file and console.\"\"\"\n",
    "    logging.basicConfig(\n",
    "        filename=log_path,\n",
    "        level=logging.INFO,\n",
    "        format=\"%(asctime)s - %(levelname)s - %(message)s\",\n",
    "        filemode=\"w\",\n",
    "        force=True\n",
    "    )\n",
    "    console_handler = logging.StreamHandler()\n",
    "    console_handler.setLevel(logging.INFO)\n",
    "    formatter = logging.Formatter(\"%(asctime)s - %(levelname)s - %(message)s\")\n",
    "    console_handler.setFormatter(formatter)\n",
    "    logging.getLogger().addHandler(console_handler)\n",
    "\n",
    "\n",
    "class SupportBotAgent:\n",
    "    def __init__(self, document_path):\n",
    "        \"\"\"Initialize the support bot with a document.\"\"\"\n",
    "        setup_logging()\n",
    "        self.qa_model = pipeline(\"question-answering\", model=\"distilbert-base-uncased-distilled-squad\")\n",
    "        self.embedder = SentenceTransformer('all-MiniLM-L6-v2')\n",
    "        self.document_text = self.load_document(document_path)\n",
    "        self.sections = self.split_document_into_sections(self.document_text)\n",
    "        \n",
    "        if not self.sections:\n",
    "            logging.error(\"No valid sections found in the document.\")\n",
    "            raise ValueError(\"Document appears to be empty or unreadable.\")\n",
    "        \n",
    "        self.section_embeddings = self.embedder.encode(self.sections, convert_to_tensor=True)\n",
    "        logging.info(f\"Loaded document: {document_path} with {len(self.sections)} sections.\")\n",
    "\n",
    "    def load_document(self, path):\n",
    "        \"\"\"Load text from a given file (supports .txt and .pdf).\"\"\"\n",
    "        try:\n",
    "            if path.endswith('.pdf'):\n",
    "                return self.extract_text_from_pdf(path)\n",
    "            with open(path, 'r', encoding='utf-8') as file:\n",
    "                return file.read()\n",
    "        except FileNotFoundError:\n",
    "            logging.error(f\"File not found: {path}\")\n",
    "            raise\n",
    "\n",
    "    def extract_text_from_pdf(self, pdf_path):\n",
    "        \"\"\"Extract text from a PDF document.\"\"\"\n",
    "        text = \"\"\n",
    "        try:\n",
    "            with open(pdf_path, \"rb\") as file:\n",
    "                reader = PyPDF2.PdfReader(file)\n",
    "                for page in reader.pages:\n",
    "                    page_text = page.extract_text()\n",
    "                    if page_text:\n",
    "                        text += page_text + \"\\n\"\n",
    "            return text.strip() or \"No text extracted from PDF.\"\n",
    "        except Exception as e:\n",
    "            logging.error(f\"Error reading PDF: {e}\")\n",
    "            return \"No text extracted from PDF.\"\n",
    "\n",
    "    def split_document_into_sections(self, text):\n",
    "        \"\"\"Splits document text into sections for efficient search.\"\"\"\n",
    "        return [section.strip() for section in text.split('\\n\\n') if section.strip()]\n",
    "\n",
    "    def find_relevant_section(self, query, threshold=0.4):\n",
    "        \"\"\"Find the most relevant section of the document based on query similarity.\"\"\"\n",
    "        query_embedding = self.embedder.encode(query, convert_to_tensor=True)\n",
    "        similarities = util.cos_sim(query_embedding, self.section_embeddings)[0]\n",
    "        best_idx = similarities.argmax().item()\n",
    "        best_score = similarities[best_idx].item()\n",
    "\n",
    "        if best_score < threshold:\n",
    "            logging.info(f\"No highly relevant section found for query: {query} (score: {best_score:.2f})\")\n",
    "            return None\n",
    "\n",
    "        logging.info(f\"Relevant section found for query: {query} (score: {best_score:.2f})\")\n",
    "        return self.sections[best_idx]\n",
    "\n",
    "    def answer_query(self, query):\n",
    "        \"\"\"Generate an answer based on the most relevant section.\"\"\"\n",
    "        context = self.find_relevant_section(query)\n",
    "        if not context:\n",
    "            return \"I'm sorry, I couldn't find relevant information in the document. Please contact support.\"\n",
    "\n",
    "        result = self.qa_model(question=query, context=context)\n",
    "        confidence_score = result.get(\"score\", 0)\n",
    "\n",
    "        if confidence_score < 0.3:\n",
    "            logging.info(f\"Low confidence ({confidence_score:.2f}) for query: {query}\")\n",
    "            return \"I'm not sure about that. Please try rephrasing or contact support.\"\n",
    "\n",
    "        return result[\"answer\"]\n",
    "\n",
    "    def get_feedback(self, response):\n",
    "        \"\"\"Prompt the user for feedback on the bot's response.\"\"\"\n",
    "        feedback = input(f\"Was this response helpful? (yes/no/more details): \").strip().lower()\n",
    "        return \"not helpful\" if feedback in [\"no\", \"not helpful\"] else \"too vague\" if feedback in [\"more details\", \"too vague\"] else \"good\"\n",
    "\n",
    "    def adjust_response(self, query, response, feedback):\n",
    "        \"\"\"Adjust response based on user feedback.\"\"\"\n",
    "        if feedback == \"too vague\":\n",
    "            context = self.find_relevant_section(query)\n",
    "            return f\"{response} (Additional Info: {context[:100]}...)\" if context else response\n",
    "\n",
    "        if feedback == \"not helpful\":\n",
    "            alternate_context = self.find_relevant_section(query, threshold=0.3)\n",
    "            if alternate_context:\n",
    "                return self.qa_model(question=query, context=alternate_context)[\"answer\"]\n",
    "            return response + \" I'm sorry, I couldn't find more details.\"\n",
    "        \n",
    "        return response\n",
    "\n",
    "    def run(self, queries):\n",
    "        \"\"\"Run the bot, processing each query and refining responses based on feedback.\"\"\"\n",
    "        for query in queries:\n",
    "            logging.info(f\"Processing query: {query}\")\n",
    "            response = self.answer_query(query)\n",
    "            print(f\"\\nInitial Response to '{query}': {response}\")\n",
    "\n",
    "            for _ in range(2):  # Allow up to two rounds of refinement\n",
    "                feedback = self.get_feedback(response)\n",
    "                if feedback == \"good\":\n",
    "                    break\n",
    "                response = self.adjust_response(query, response, feedback)\n",
    "                print(f\"Updated Response to '{query}': {response}\")\n",
    "\n",
    "\n",
    "if __name__ == \"__main__\":\n",
    "    bot = SupportBotAgent(\"faq.txt\")  # Load document\n",
    "    sample_queries = [\n",
    "        \"How do I reset my password?\",\n",
    "        \"What’s the refund policy?\",\n",
    "        \"How do I contact support?\",\n",
    "        \"How do I fly to the moon?\"  # Out-of-scope query\n",
    "    ]\n",
    "    bot.run(sample_queries)\n"
   ]
  },
  {
   "cell_type": "code",
   "execution_count": null,
   "id": "b182f16e",
   "metadata": {},
   "outputs": [],
   "source": []
  }
 ],
 "metadata": {
  "kernelspec": {
   "display_name": "Python 3 (ipykernel)",
   "language": "python",
   "name": "python3"
  },
  "language_info": {
   "codemirror_mode": {
    "name": "ipython",
    "version": 3
   },
   "file_extension": ".py",
   "mimetype": "text/x-python",
   "name": "python",
   "nbconvert_exporter": "python",
   "pygments_lexer": "ipython3",
   "version": "3.11.2"
  }
 },
 "nbformat": 4,
 "nbformat_minor": 5
}
